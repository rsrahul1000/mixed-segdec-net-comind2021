{
 "cells": [
  {
   "cell_type": "code",
   "execution_count": 2,
   "id": "7bf74b64",
   "metadata": {
    "ExecuteTime": {
     "end_time": "2022-10-29T18:32:19.627994Z",
     "start_time": "2022-10-29T18:32:19.617020Z"
    }
   },
   "outputs": [],
   "source": [
    "import numpy"
   ]
  },
  {
   "cell_type": "code",
   "execution_count": 4,
   "id": "e6a77004",
   "metadata": {
    "ExecuteTime": {
     "end_time": "2022-10-29T18:33:37.208386Z",
     "start_time": "2022-10-29T18:33:24.465568Z"
    }
   },
   "outputs": [
    {
     "name": "stdout",
     "output_type": "stream",
     "text": [
      "^C\n"
     ]
    }
   ],
   "source": [
    "!python -u train_net.py  \\\n",
    "        --GPU=0 \\\n",
    "        --DATASET=KSDD \\\n",
    "        --RUN_NAME=RUN_NAME \\\n",
    "        --DATASET_PATH=/path/to/dataset \\\n",
    "        --RESULTS_PATH=/path/to/save/results \\\n",
    "        --SAVE_IMAGES=True \\\n",
    "        --DILATE=7 \\\n",
    "        --EPOCHS=50 \\\n",
    "        --LEARNING_RATE=1.0 \\\n",
    "        --DELTA_CLS_LOSS=0.01 \\\n",
    "        --BATCH_SIZE=1 \\\n",
    "        --WEIGHTED_SEG_LOSS=True \\\n",
    "        --WEIGHTED_SEG_LOSS_P=2 \\\n",
    "        --WEIGHTED_SEG_LOSS_MAX=1 \\\n",
    "        --DYN_BALANCED_LOSS=True \\\n",
    "        --GRADIENT_ADJUSTMENT=True \\\n",
    "        --FREQUENCY_SAMPLING=True \\\n",
    "        --TRAIN_NUM=33 \\\n",
    "        --NUM_SEGMENTED=33 \\\n",
    "        --FOLD=0"
   ]
  },
  {
   "cell_type": "code",
   "execution_count": null,
   "id": "41f93464",
   "metadata": {},
   "outputs": [],
   "source": []
  }
 ],
 "metadata": {
  "hide_input": false,
  "kernelspec": {
   "display_name": "Python 3",
   "language": "python",
   "name": "python3"
  },
  "language_info": {
   "codemirror_mode": {
    "name": "ipython",
    "version": 3
   },
   "file_extension": ".py",
   "mimetype": "text/x-python",
   "name": "python",
   "nbconvert_exporter": "python",
   "pygments_lexer": "ipython3",
   "version": "3.6.15"
  },
  "toc": {
   "base_numbering": 1,
   "nav_menu": {},
   "number_sections": true,
   "sideBar": true,
   "skip_h1_title": false,
   "title_cell": "Table of Contents",
   "title_sidebar": "Contents",
   "toc_cell": false,
   "toc_position": {},
   "toc_section_display": true,
   "toc_window_display": false
  },
  "varInspector": {
   "cols": {
    "lenName": 16,
    "lenType": 16,
    "lenVar": 40
   },
   "kernels_config": {
    "python": {
     "delete_cmd_postfix": "",
     "delete_cmd_prefix": "del ",
     "library": "var_list.py",
     "varRefreshCmd": "print(var_dic_list())"
    },
    "r": {
     "delete_cmd_postfix": ") ",
     "delete_cmd_prefix": "rm(",
     "library": "var_list.r",
     "varRefreshCmd": "cat(var_dic_list()) "
    }
   },
   "types_to_exclude": [
    "module",
    "function",
    "builtin_function_or_method",
    "instance",
    "_Feature"
   ],
   "window_display": false
  },
  "widgets": {
   "application/vnd.jupyter.widget-state+json": {
    "state": {},
    "version_major": 2,
    "version_minor": 0
   }
  }
 },
 "nbformat": 4,
 "nbformat_minor": 5
}
